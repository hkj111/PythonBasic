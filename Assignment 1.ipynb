{
 "cells": [
  {
   "cell_type": "markdown",
   "id": "independent-chair",
   "metadata": {},
   "source": [
    "# Assignment 1\n",
    "## Harsh Kumar Jangir\n",
    "## harshkumarjangir2014@gmail.com\n",
    "## 18-03-2021"
   ]
  },
  {
   "cell_type": "markdown",
   "id": "confirmed-platform",
   "metadata": {},
   "source": [
    "### **1. In the below elements which of them are values or an expression? eg:- values can be integer or string and expressions will be mathematical operators.**\n",
    "\n",
    "'hello' -87.8 - / + 6 *\n",
    "\n",
    "-------------------------------------------------------------------------------------------------------------------------------\n",
    "\n",
    "**Answer**: Values: 'hello', -87.8, 6\n",
    "<br>\n",
    "        Expressions: *, -, /, +"
   ]
  },
  {
   "cell_type": "markdown",
   "id": "incorrect-intent",
   "metadata": {},
   "source": [
    "### **2. What is the difference between string and variable?**\n",
    "\n",
    "* Variable is a reserved memory in which any type of value can be stored such as String,Integer,Boolean Values. Example a = 'Alphabet' , Now here \"a\" is a variable storing a String value 'Alphabet'\n",
    "\n",
    "* String is one of the datatype in which simple letters,words or sentences are present, they are generally enclosed in double inverted commas \"\" or single inverted commas ''. String are stored in variable. Example a = \"Test\" here \"a\" is a variable and \"Test\" is a String stored in it.\n"
   ]
  },
  {
   "cell_type": "markdown",
   "id": "natural-upgrade",
   "metadata": {},
   "source": [
    "### **3. Describe three different data types.**\n",
    "**Answer:** The three different Data types are:\n",
    "* Integer : Integer are simple numbers such as 1,2,3,4,5,6. Integer datatype can only contain discrete values not continuos values like 1.2, 2.2\n",
    "* char : char type of datatype contains character such as a,b,c,d. Basically alphabets\n",
    "* boolean: Boolean contains True or False value. This is used to make decisions based on some condition."
   ]
  },
  {
   "cell_type": "markdown",
   "id": "worst-acoustic",
   "metadata": {},
   "source": [
    "### **4. What is an expression made up of? What do all expressions do?**\n",
    "**Answer:** Expression are made up of combinations of numbers,mathematical operators generally. Sometimes numbers can be in the form of variables. Example 1+2+3 is an expression and a=1,b=2,c=3,d d=a+b+c is also an expression which is storing the result in variable d.\n",
    "Expression computes and gives back a single value. Example d=a+b+c will give d=6 and similarly 1+2+3 will return 6"
   ]
  },
  {
   "cell_type": "code",
   "execution_count": 6,
   "id": "soviet-transaction",
   "metadata": {},
   "outputs": [
    {
     "name": "stdout",
     "output_type": "stream",
     "text": [
      "6\n"
     ]
    },
    {
     "data": {
      "text/plain": [
       "6"
      ]
     },
     "execution_count": 6,
     "metadata": {},
     "output_type": "execute_result"
    }
   ],
   "source": [
    "print(1+2+3)\n",
    "a=1\n",
    "b=2\n",
    "c=3\n",
    "d=0\n",
    "d=a+b+c\n",
    "d"
   ]
  },
  {
   "cell_type": "markdown",
   "id": "oriented-burden",
   "metadata": {},
   "source": [
    "### **5.This assignment statements, like spam = 10. What is the difference between an expression and a statement?**\n",
    "\n",
    "**Answer:** Here spam=10 is signifying that spam is a variable which is storing an Integer value 10 in it. Whereas in expression we compute something not just store. Example if we were give like this spam=10+10 then this is a Expression because we are adding 10 into 10 and then storing in spam. This is the basic difference between statements and expression."
   ]
  },
  {
   "cell_type": "markdown",
   "id": "successful-country",
   "metadata": {},
   "source": [
    "###  6. After running the following code, what does the variable bacon contain?\n",
    "### bacon = 22\n",
    "### bacon + 1\n"
   ]
  },
  {
   "cell_type": "code",
   "execution_count": 7,
   "id": "proof-being",
   "metadata": {},
   "outputs": [
    {
     "data": {
      "text/plain": [
       "22"
      ]
     },
     "execution_count": 7,
     "metadata": {},
     "output_type": "execute_result"
    }
   ],
   "source": [
    "bacon=22\n",
    "bacon+1\n",
    "bacon"
   ]
  },
  {
   "cell_type": "markdown",
   "id": "internal-boxing",
   "metadata": {},
   "source": [
    "We can see from the above code that bacon now have the updated value 22 after running the code."
   ]
  },
  {
   "cell_type": "markdown",
   "id": "julian-mistake",
   "metadata": {},
   "source": [
    "### 7. What should the values of the following two terms be?\n",
    "### 'spam' + 'spamspam'\n",
    "### 'spam' * 3\n",
    "\n",
    "**Answer:** 'spam'+'spamspam' this will return 'spamspamspam'.\n",
    " <br>\n",
    "            'spam'*3 will return 'spamspamspam'"
   ]
  },
  {
   "cell_type": "markdown",
   "id": "opponent-accounting",
   "metadata": {},
   "source": [
    "### 8. Why is eggs a valid variable name while 100 is invalid?\n",
    "**Answer:** Thats how python works if we just write 100 it will considered as a integer value 100 it cannot be used as a variable name or to store something whereas eggs satisfy all the condition to be defined as a variable name. It can store value"
   ]
  },
  {
   "cell_type": "markdown",
   "id": "rocky-blast",
   "metadata": {},
   "source": [
    "### 9. What three functions can be used to get the integer, floating-point number, or string version of a value?\n",
    "**Answer:** We can simply use typecast funtions\n",
    "* For integer int()\n",
    "* For floating-point number float()\n",
    "* for string str()"
   ]
  },
  {
   "cell_type": "markdown",
   "id": "toxic-sugar",
   "metadata": {},
   "source": [
    "### 10. Why does this expression cause an error? How can you fix it?\n",
    "###'I have eaten ' + 99 + ' burritos.'\n",
    "**Answer:** We cannot concatinate string to a integer or vice versa. to fix this we have to make 99 a string too.\n",
    "'I have eaten ' + '99' + ' burritos.' This will not throw any error."
   ]
  },
  {
   "cell_type": "code",
   "execution_count": 11,
   "id": "unnecessary-motivation",
   "metadata": {},
   "outputs": [
    {
     "data": {
      "text/plain": [
       "'I have eaten 99 burritos.'"
      ]
     },
     "execution_count": 11,
     "metadata": {},
     "output_type": "execute_result"
    }
   ],
   "source": [
    "'I have eaten ' + '99' + ' burritos.'"
   ]
  },
  {
   "cell_type": "code",
   "execution_count": null,
   "id": "juvenile-choir",
   "metadata": {},
   "outputs": [],
   "source": []
  }
 ],
 "metadata": {
  "kernelspec": {
   "display_name": "Python 3",
   "language": "python",
   "name": "python3"
  },
  "language_info": {
   "codemirror_mode": {
    "name": "ipython",
    "version": 3
   },
   "file_extension": ".py",
   "mimetype": "text/x-python",
   "name": "python",
   "nbconvert_exporter": "python",
   "pygments_lexer": "ipython3",
   "version": "3.7.9"
  }
 },
 "nbformat": 4,
 "nbformat_minor": 5
}
