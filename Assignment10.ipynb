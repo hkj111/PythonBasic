{
 "cells": [
  {
   "cell_type": "markdown",
   "id": "stone-hazard",
   "metadata": {},
   "source": [
    "# Assignment 10"
   ]
  },
  {
   "cell_type": "markdown",
   "id": "continued-asian",
   "metadata": {},
   "source": [
    "#### 1. How do you distinguish between shutil.copy() and shutil.copytree()?\n",
    "shutil.copy() will copy only a single file whereas shutil.copytree() will copy the folder at the path source , along with all of its files and subfolders\n",
    "#### 2. What function is used to rename files?\n",
    "os.rename(original name,modified name)  \n",
    "#### 3. What is the difference between the delete functions in the send2trash and shutil modules?\n",
    "Shutil modules will delete that file permanently whereas send2trash will recyle the file or in simple word the fill will go to recycle bin\n",
    "#### 4.ZipFile objects have a close() method just like File objects’ close() method. What ZipFile method is equivalent to File objects’ open() method?\n",
    "ZipFile method"
   ]
  },
  {
   "cell_type": "markdown",
   "id": "engaged-venezuela",
   "metadata": {},
   "source": [
    "#### 5. Create a programme that searches a folder tree for files with a certain file extension (such as .pdf or .jpg). Copy these files from whatever location they are in to a new folder.)"
   ]
  },
  {
   "cell_type": "code",
   "execution_count": 51,
   "id": "passing-capacity",
   "metadata": {},
   "outputs": [],
   "source": [
    "import os,shutil\n",
    "a =os.walk(\"C:\\\\Users\\\\Harsh\\\\Desktop\\\\Folders\\\\Pratyash\",topdown = False)\n",
    "dummy=[]\n",
    "for root,dirs,files in a:\n",
    "    for i in files:\n",
    "        i=i.lower()\n",
    "        if \".pdf\" in i:\n",
    "            g = os.path.join(root,i)\n",
    "            shutil.copy2(g,\"C:\\\\Users\\\\Harsh\\\\Desktop\\\\Folders\\\\PDFS\")"
   ]
  }
 ],
 "metadata": {
  "kernelspec": {
   "display_name": "Python 3",
   "language": "python",
   "name": "python3"
  },
  "language_info": {
   "codemirror_mode": {
    "name": "ipython",
    "version": 3
   },
   "file_extension": ".py",
   "mimetype": "text/x-python",
   "name": "python",
   "nbconvert_exporter": "python",
   "pygments_lexer": "ipython3",
   "version": "3.7.9"
  }
 },
 "nbformat": 4,
 "nbformat_minor": 5
}
