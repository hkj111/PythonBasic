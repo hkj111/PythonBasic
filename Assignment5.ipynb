{
 "cells": [
  {
   "cell_type": "markdown",
   "id": "presidential-focus",
   "metadata": {},
   "source": [
    "# Assignment 5\n",
    "## Harsh Kumar Jangir\n",
    "## harshkumarjangir2014@gmail.com\n",
    "## 22-03-2021"
   ]
  },
  {
   "cell_type": "markdown",
   "id": "chief-focus",
   "metadata": {},
   "source": [
    "### 1. What does an empty dictionary&#39;s code look like?\n",
    "\n",
    "<br>\n",
    "ditc1={}\n",
    "<br>\n",
    "\n",
    "### 2. What is the value of a dictionary value with the key &#39;foo&#39; and the value 42?\n",
    "\n",
    "<br>\n",
    "42\n",
    "<br>\n",
    "\n",
    "### 3. What is the most significant distinction between a dictionary and a list?\n",
    "\n",
    "<br>\n",
    "List only contains values whereas Dictonary only contains key:value pair.\n",
    "<br>\n",
    "\n",
    "### 4. What happens if you try to access spam[&#39;foo&#39;] if spam is {&#39;bar&#39;: 100}?\n",
    "\n",
    "<br>\n",
    "It throws an error saying name is not in the Dictonary\n",
    "<br>\n",
    "\n",
    "### 5. If a dictionary is stored in spam, what is the difference between the expressions &#39;cat&#39; in spam and\n",
    "### &#39;cat&#39; in spam.keys()?\n",
    "\n",
    "<br>\n",
    "There is no difference as cat is a key in dictonary and spam.keys() returns all the keys in dictonary so basically both represent key in a dictonary\n",
    "<br>\n",
    "\n",
    "### 6. If a dictionary is stored in spam, what is the difference between the expressions &#39;cat&#39; in spam and\n",
    "### &#39;cat&#39; in spam.values()?\n",
    "\n",
    "<br>\n",
    "cat is key and spam.values() will return the keys\n",
    "<br>\n",
    "\n",
    "### 7. What is a shortcut for the following code?\n",
    "### if &#39;color&#39; not in spam:\n",
    "### spam[&#39;color&#39;] = &#39;black&#39;\n",
    "\n",
    "<br>\n",
    "spam.setdefault('color','black')\n",
    "<br>\n",
    "\n",
    "### 8. How do you &quot;pretty print&quot; dictionary values using which module and function?\n",
    "\n",
    "<br>\n",
    "We use pprint module and pprint function\n",
    "\n",
    "import pprint\n",
    "<br>\n",
    "pprint.pprint(spam)\n",
    "<br>\n"
   ]
  },
  {
   "cell_type": "code",
   "execution_count": null,
   "id": "systematic-allowance",
   "metadata": {},
   "outputs": [],
   "source": []
  }
 ],
 "metadata": {
  "kernelspec": {
   "display_name": "Python 3",
   "language": "python",
   "name": "python3"
  },
  "language_info": {
   "codemirror_mode": {
    "name": "ipython",
    "version": 3
   },
   "file_extension": ".py",
   "mimetype": "text/x-python",
   "name": "python",
   "nbconvert_exporter": "python",
   "pygments_lexer": "ipython3",
   "version": "3.7.9"
  }
 },
 "nbformat": 4,
 "nbformat_minor": 5
}
