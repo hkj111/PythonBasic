{
 "cells": [
  {
   "cell_type": "markdown",
   "id": "literary-opening",
   "metadata": {},
   "source": [
    "# Assignment 8"
   ]
  },
  {
   "cell_type": "markdown",
   "id": "unknown-traveler",
   "metadata": {},
   "source": [
    "#### 1. Is the Python Standard Library included with PyInputPlus?  \n",
    "This is not a Standard library  \n",
    "\n",
    "#### 2. Why is PyInputPlus commonly imported with import pyinputplus as pypi?\n",
    "As PyInputPlus is a long name thats why its easy to wrtie pypi which is just an alias name  \n",
    "#### 3. How do you distinguish between inputInt() and inputFloat()?\n",
    "InputInt will only accept integer numerical value whereas inputFLoat will accept decimal numerical value and integer numerical value  \n",
    "#### 4. Using PyInputPlus, how do you ensure that the user enters a whole number between 0 and 99?\n",
    "WE can define min =0 and max = 99. This will ensure that the number stays between 0 nd 99  \n",
    "<strong>a = pypi.inputInt(min=0,max=99)</strong>  \n",
    "#### 5. What is transferred to the keyword arguments allowRegexes and blockRegexes?\n",
    "In allowRegexes we write the only strings/number which user can write whereas in blockRegexes we block some strings/number ehich user cannot wrtie  \n",
    "#### 6. If a blank input is entered three times, what does inputStr(limit=3) do?\n",
    "It will give the error message (If there is no default, then raise the timeout/limit exception)  blank value will not enter after the 4rd value entered\n",
    "\n",
    "#### 7. If blank input is entered three times, what does inputStr(limit=3, default=&#39;hello&#39;) do?\n",
    "It will execute just storing the default value which is hello"
   ]
  }
 ],
 "metadata": {
  "kernelspec": {
   "display_name": "Python 3",
   "language": "python",
   "name": "python3"
  },
  "language_info": {
   "codemirror_mode": {
    "name": "ipython",
    "version": 3
   },
   "file_extension": ".py",
   "mimetype": "text/x-python",
   "name": "python",
   "nbconvert_exporter": "python",
   "pygments_lexer": "ipython3",
   "version": "3.7.9"
  }
 },
 "nbformat": 4,
 "nbformat_minor": 5
}
