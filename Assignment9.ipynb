{
 "cells": [
  {
   "cell_type": "markdown",
   "id": "blessed-sunglasses",
   "metadata": {},
   "source": [
    "# Assignment 9"
   ]
  },
  {
   "cell_type": "markdown",
   "id": "sharp-welsh",
   "metadata": {},
   "source": [
    "#### 1. To what does a relative path refer?  \n",
    "Relative path is the path that is relative to working directory location in our computer  \n",
    "#### 2. What does an absolute path start with your operating system?  \n",
    "C: \n",
    "#### 3. What do the functions os.getcwd() and os.chdir() do?  \n",
    "os.getcwd() will return the path of current working directory whereas os.chdir() takes the path changes the path of current working directory to the path provided in the input of os.chdir()\n",
    "#### 4. What are the . and .. folders?\n",
    ". is the current folder and .. is the parent folder\n",
    "#### 5. In C:\\bacon\\eggs\\spam.txt, which part is the dir name, and which part is the base name?\n",
    "base name = spam.txt and dir name = C:\\bacon\\eggs\n",
    "#### 6. What are the three “mode” arguments that can be passed to the open() function?\n",
    "read r, write w, append a\n",
    "#### 7. What happens if an existing file is opened in write mode?\n",
    "All of the data written in that file is lost\n",
    "#### 8. How do you tell the difference between read() and readlines()?\n",
    "read() will return a single string with all the data whereas readlines() will read the file and return a list in which each element is a line with /n in the end.\n",
    "#### 9. What data structure does a shelf value resemble?\n",
    "It resembles Dictornary data structure"
   ]
  }
 ],
 "metadata": {
  "kernelspec": {
   "display_name": "Python 3",
   "language": "python",
   "name": "python3"
  },
  "language_info": {
   "codemirror_mode": {
    "name": "ipython",
    "version": 3
   },
   "file_extension": ".py",
   "mimetype": "text/x-python",
   "name": "python",
   "nbconvert_exporter": "python",
   "pygments_lexer": "ipython3",
   "version": "3.7.9"
  }
 },
 "nbformat": 4,
 "nbformat_minor": 5
}
